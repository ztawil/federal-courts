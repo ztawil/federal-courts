{
 "cells": [
  {
   "cell_type": "code",
   "execution_count": 2,
   "metadata": {},
   "outputs": [],
   "source": [
    "import json\n",
    "from database_utils import Session; session = Session();\n",
    "from collections import Counter, defaultdict"
   ]
  },
  {
   "cell_type": "markdown",
   "metadata": {},
   "source": [
    "### Wait Time Data\n",
    "Every row is represents a judicial appointment. It contains:\n",
    "* All the judge's data\n",
    "* Information about the appointment (court type)\n",
    "* Congressional Start Year of the nomination.\n",
    "* Nominating President\n",
    "* congressional makeup"
   ]
  },
  {
   "cell_type": "code",
   "execution_count": 3,
   "metadata": {},
   "outputs": [],
   "source": [
    "\n",
    "session.rollback()\n",
    "wait_data = session.execute(\n",
    "\"\"\"\n",
    "SELECT\n",
    "    j.*,\n",
    "    con.start_year AS congress_start_year,\n",
    "    appt.start_year AS appointent_year,\n",
    "    appt.nomination_date,\n",
    "    appt.days_to_confirm,\n",
    "    appt.court_name,\n",
    "    con.president_party_senate_majority_perc,\n",
    "    con.president_party_senate_majority,\n",
    "    con.party_of_president,\n",
    "    con.president\n",
    "FROM appointment appt\n",
    "JOIN congress con\n",
    "    ON date_part('year', appt.nomination_date) >= con.start_year\n",
    "    AND date_part('year', appt.nomination_date) < con.end_year\n",
    "JOIN judge j\n",
    "    ON appt.nid = j.nid\n",
    "WHERE appt.days_to_confirm IS NOT NULL\n",
    "\"\"\"\n",
    ")\n",
    "wait_data_export = []\n",
    "for row in wait_data:\n",
    "    row = dict(row)\n",
    "    row['nomination_date'] = str(row['nomination_date'])\n",
    "    wait_data_export.append(row)\n",
    "json.dump(wait_data_export, open('./joined_judges_wait.json', 'w'))"
   ]
  },
  {
   "cell_type": "code",
   "execution_count": 4,
   "metadata": {},
   "outputs": [
    {
     "data": {
      "text/plain": [
       "'/src/notebooks'"
      ]
     },
     "execution_count": 4,
     "metadata": {},
     "output_type": "execute_result"
    }
   ],
   "source": [
    "pwd"
   ]
  },
  {
   "cell_type": "markdown",
   "metadata": {},
   "source": [
    "### Education"
   ]
  },
  {
   "cell_type": "code",
   "execution_count": 82,
   "metadata": {},
   "outputs": [],
   "source": [
    "judges_in_year_query = \"\"\"\n",
    "    SELECT\n",
    "        year_party.year,\n",
    "        COUNT(appointment.start_year) AS count,\n",
    "        ARRAY_AGG(appointment.nid) AS nid_serving_in_year\n",
    "    FROM year_party\n",
    "    LEFT JOIN appointment\n",
    "        ON \n",
    "         year_party.party = appointment.party_of_appointing_president\n",
    "         AND\n",
    "        (\n",
    "            appointment.start_year < year_party.year + 2\n",
    "            AND\n",
    "            (\n",
    "                appointment.end_year >= year_party.year\n",
    "                OR appointment.end_year IS NULL\n",
    "            )\n",
    "        )\n",
    "    GROUP BY year_party.year\n",
    "    ORDER BY year_party.year\n",
    "\"\"\"\n",
    "\n",
    "session.rollback()\n",
    "judges_in_year = session.execute(judges_in_year_query)\n",
    "jiy_data = [dict(row) for row in judges_in_year]"
   ]
  },
  {
   "cell_type": "code",
   "execution_count": 86,
   "metadata": {},
   "outputs": [],
   "source": [
    "education_per_judge = session.execute(\"SELECT * FROM education\")\n",
    "education_data = [dict(row) for row in education_per_judge]"
   ]
  },
  {
   "cell_type": "code",
   "execution_count": 87,
   "metadata": {},
   "outputs": [],
   "source": [
    "# Flatten so every judge is represented once but can have multiple educations\n",
    "education_data_flat = defaultdict(list)\n",
    "for row in education_data:\n",
    "    education_data_flat[row['nid']].append(row)"
   ]
  },
  {
   "cell_type": "code",
   "execution_count": 89,
   "metadata": {},
   "outputs": [],
   "source": [
    "jiy_data_with_ed_count = []\n",
    "for row in jiy_data:\n",
    "    ed_count_jd = Counter()\n",
    "    ed_count_all = Counter()\n",
    "    for nid in row['nid_serving_in_year']:\n",
    "        for education in education_data_flat[nid]:            \n",
    "            ed_count_all[education['school']] += 1\n",
    "            if education['degree'] and education['degree'].lower() == 'j.d.':\n",
    "                ed_count_jd[education['school']] += 1\n",
    "    row['school_count_all'] = [{'id': k, 'count': v} for k, v in ed_count_all.items()]\n",
    "    row['school_count_jd'] = [{'id': k, 'count': v} for k, v in ed_count_jd.items()]\n",
    "    jiy_data_with_ed_count.append(row)\n",
    "json.dump(jiy_data_with_ed_count, open('/src/js-ui/education_counts_by_year.json', 'w'))"
   ]
  },
  {
   "cell_type": "markdown",
   "metadata": {},
   "source": [
    "### Unsuccessful Nominations\n",
    "\n",
    "Taken from another dataset, so unique identifers like JID and NID are not present\n",
    "\n",
    "Every row is represents a judicial nomination that was unsuccessful . It contains:\n",
    "\n",
    "* Nominating President\n",
    "* Congress of nomination year\n",
    "* Judge Name\n",
    "* Court Name\n",
    "* Nomination Date\n",
    "* Outcome\n",
    "\n"
   ]
  },
  {
   "cell_type": "code",
   "execution_count": 113,
   "metadata": {},
   "outputs": [],
   "source": [
    "session.rollback()\n",
    "unsuccesful_nominations = session.execute(\n",
    "\"\"\"\n",
    "SELECT *,\n",
    "CASE WHEN nominee like '%(1)%' OR nominee like '%(2)%' THEN true ELSE false END AS later_appointed\n",
    "FROM unsuccessful_nomination un JOIN congress c ON un.congress_start_year = c.start_year\n",
    "\"\"\")\n",
    "unsuccesful_nominations_export = []\n",
    "\n",
    "for row in unsuccesful_nominations:\n",
    "    nom = dict(row)\n",
    "    nom['nomination_date'] = str(nom['nomination_date'])\n",
    "    unsuccesful_nominations_export.append(nom)\n",
    "\n",
    "json.dump(unsuccesful_nominations_export, open('./unsuccessful_nominations.json', 'w'))"
   ]
  },
  {
   "cell_type": "code",
   "execution_count": 103,
   "metadata": {
    "scrolled": true
   },
   "outputs": [
    {
     "data": {
      "text/plain": [
       "{'president': 'George Washington',\n",
       " 'congress': '1st',\n",
       " 'congress_start_year': 1789,\n",
       " 'congress_end_year': 1791,\n",
       " 'nominee': 'Harrison, Robert H.',\n",
       " 'court_name': 'Supreme Court',\n",
       " 'nomination_date': datetime.date(1789, 9, 24),\n",
       " 'recess_appointment': False,\n",
       " 'outcome': 'confirmed September 26, 1789; nominee declined'}"
      ]
     },
     "execution_count": 103,
     "metadata": {},
     "output_type": "execute_result"
    }
   ],
   "source": [
    "dict(row)"
   ]
  },
  {
   "cell_type": "code",
   "execution_count": 98,
   "metadata": {},
   "outputs": [
    {
     "data": {
      "text/plain": [
       "[]"
      ]
     },
     "execution_count": 98,
     "metadata": {},
     "output_type": "execute_result"
    }
   ],
   "source": [
    "unsuccesful_nominations"
   ]
  },
  {
   "cell_type": "code",
   "execution_count": null,
   "metadata": {},
   "outputs": [],
   "source": []
  }
 ],
 "metadata": {
  "kernelspec": {
   "display_name": "Python 3",
   "language": "python",
   "name": "python3"
  },
  "language_info": {
   "codemirror_mode": {
    "name": "ipython",
    "version": 3
   },
   "file_extension": ".py",
   "mimetype": "text/x-python",
   "name": "python",
   "nbconvert_exporter": "python",
   "pygments_lexer": "ipython3",
   "version": "3.7.5"
  }
 },
 "nbformat": 4,
 "nbformat_minor": 4
}
