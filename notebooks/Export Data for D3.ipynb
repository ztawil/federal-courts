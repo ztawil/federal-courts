{
 "cells": [
  {
   "cell_type": "code",
   "execution_count": null,
   "metadata": {},
   "outputs": [],
   "source": [
    "import json\n",
    "from database_utils import Session; session = Session();\n"
   ]
  },
  {
   "cell_type": "markdown",
   "metadata": {},
   "source": [
    "### Wait Time Data\n",
    "Every row is represents a judicial appointment. It contains:\n",
    "* All the judge's data\n",
    "* Information about the appointment (court type)\n",
    "* Congressional Start Year of the nomination.\n",
    "* Nominating President\n",
    "* congressional makeup"
   ]
  },
  {
   "cell_type": "code",
   "execution_count": 3,
   "metadata": {},
   "outputs": [],
   "source": [
    "\n",
    "session.rollback()\n",
    "wait_data = session.execute(\n",
    "\"\"\"\n",
    "SELECT\n",
    "    j.*,\n",
    "    con.start_year AS congress_start_year,\n",
    "    appt.start_year AS appointent_year,\n",
    "    appt.nomination_date,\n",
    "    appt.days_to_confirm,\n",
    "    appt.court_name,\n",
    "    con.president_party_senate_majority_perc,\n",
    "    con.president_party_senate_majority,\n",
    "    con.party_of_president,\n",
    "    con.president\n",
    "FROM appointment appt\n",
    "JOIN congress con\n",
    "    ON date_part('year', appt.nomination_date) >= con.start_year\n",
    "    AND date_part('year', appt.nomination_date) < con.end_year\n",
    "JOIN judge j\n",
    "    ON appt.nid = j.nid\n",
    "WHERE appt.days_to_confirm IS NOT NULL\n",
    "\"\"\"\n",
    ")\n",
    "wait_data_export = []\n",
    "for row in wait_data:\n",
    "    row = dict(row)\n",
    "    row['nomination_date'] = str(row['nomination_date'])\n",
    "    wait_data_export.append(row)\n",
    "json.dump(wait_data_export, open('./joined_judges_wait.json', 'w'))"
   ]
  },
  {
   "cell_type": "markdown",
   "metadata": {},
   "source": [
    "### Education"
   ]
  },
  {
   "cell_type": "code",
   "execution_count": null,
   "metadata": {},
   "outputs": [],
   "source": []
  },
  {
   "cell_type": "markdown",
   "metadata": {},
   "source": [
    "### Unsuccessful Nominations\n",
    "\n",
    "Taken from another dataset, so unique identifers like JID and NID are not present\n",
    "\n",
    "Every row is represents a judicial nomination that was unsuccessful . It contains:\n",
    "\n",
    "* Nominating President\n",
    "* Congress of nomination year\n",
    "* Judge Name\n",
    "* Court Name\n",
    "* Nomination Date\n",
    "* Outcome\n",
    "\n"
   ]
  },
  {
   "cell_type": "code",
   "execution_count": 4,
   "metadata": {},
   "outputs": [],
   "source": [
    "unsuccesful_nominations = session.execute(\n",
    "\"\"\"\n",
    "SELECT * FROM unsuccessful_nomination\n",
    "\"\"\")\n",
    "unsuccesful_nominations = [dict(row) for row in unsuccesful_nominations]\n",
    "json.dump(wait_data_export, open('./unsuccessful_nominations.json', 'w'))"
   ]
  },
  {
   "cell_type": "code",
   "execution_count": null,
   "metadata": {},
   "outputs": [],
   "source": []
  }
 ],
 "metadata": {
  "kernelspec": {
   "display_name": "Python 3",
   "language": "python",
   "name": "python3"
  },
  "language_info": {
   "codemirror_mode": {
    "name": "ipython",
    "version": 3
   },
   "file_extension": ".py",
   "mimetype": "text/x-python",
   "name": "python",
   "nbconvert_exporter": "python",
   "pygments_lexer": "ipython3",
   "version": "3.7.5"
  }
 },
 "nbformat": 4,
 "nbformat_minor": 4
}
