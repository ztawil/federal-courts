{
 "cells": [
  {
   "cell_type": "code",
   "execution_count": 8,
   "metadata": {},
   "outputs": [],
   "source": [
    "import json\n",
    "from models import Appointment, YearParty\n",
    "from database_utils import Session; session = Session();\n",
    "from collections import Counter, defaultdict\n",
    "from sqlalchemy import sql\n"
   ]
  },
  {
   "cell_type": "code",
   "execution_count": 167,
   "metadata": {},
   "outputs": [],
   "source": [
    "def get_judge_count_query(session):\n",
    "    join_conditions = [\n",
    "        # Join condition for if the judge was serving that year\n",
    "        sql.and_(\n",
    "            Appointment.start_year < YearParty.year + 2,\n",
    "            sql.or_(\n",
    "                Appointment.end_year >= YearParty.year, Appointment.end_year.is_(None)\n",
    "            )\n",
    "        ),\n",
    "        # Join condition for party\n",
    "        YearParty.party == Appointment.party_of_appointing_president,\n",
    "    ]\n",
    "\n",
    "\n",
    "    return (\n",
    "        session\n",
    "        .query(\n",
    "            YearParty.year,\n",
    "            YearParty.party,\n",
    "            Appointment.court_type,\n",
    "            Appointment.court_name,\n",
    "            sql.func.count(Appointment.start_year).label('count'),\n",
    "        )\n",
    "        .outerjoin(\n",
    "            Appointment,\n",
    "            sql.and_(*join_conditions)\n",
    "        )\n",
    "        .group_by(YearParty.year, YearParty.party, Appointment.court_type, Appointment.court_name)\n",
    "        .order_by(YearParty.year)\n",
    "    )\n",
    "\n",
    "\n",
    "def get_start_count_query(session):\n",
    "    join_conditions = [\n",
    "        # Need to have started / left in that congress or after\n",
    "        Appointment.start_year >= YearParty.year,\n",
    "        # Need to have started /  before the start of the next congress\n",
    "        Appointment.start_year < YearParty.year + 2,\n",
    "        # Join condition for party\n",
    "        YearParty.party == Appointment.party_of_appointing_president,\n",
    "    ]\n",
    "\n",
    "    return (\n",
    "        session\n",
    "        .query(\n",
    "            YearParty.year,\n",
    "            YearParty.party,\n",
    "            Appointment.court_type,\n",
    "            Appointment.court_name,\n",
    "            sql.func.count(Appointment.start_year).label('count'),\n",
    "        )\n",
    "        .outerjoin(\n",
    "            Appointment,\n",
    "            sql.and_(*join_conditions)\n",
    "        )\n",
    "        .group_by(YearParty.year, YearParty.party, Appointment.court_type, Appointment.court_name,)\n",
    "        .order_by(YearParty.year)\n",
    "    )\n",
    "\n",
    "\n",
    "def get_end_count_query(session):\n",
    "    join_conditions = [\n",
    "        # Need to have started / left in that congress or after\n",
    "        Appointment.end_year >= YearParty.year - 2,\n",
    "        # Need to have started /  before the start of the next congress\n",
    "        Appointment.end_year < YearParty.year,\n",
    "        # Join condition for party\n",
    "        YearParty.party == Appointment.party_of_appointing_president,\n",
    "    ]\n",
    "\n",
    "    return (\n",
    "        session\n",
    "        .query(\n",
    "            YearParty.year,\n",
    "            YearParty.party,\n",
    "            Appointment.court_type,\n",
    "            Appointment.court_name,\n",
    "            sql.func.count(Appointment.start_year).label('count'),\n",
    "        )\n",
    "        .outerjoin(\n",
    "            Appointment,\n",
    "            sql.and_(*join_conditions)\n",
    "        )\n",
    "        .group_by(YearParty.year, YearParty.party, Appointment.court_type, Appointment.court_name,)\n",
    "        .order_by(YearParty.year)\n",
    "    )\n"
   ]
  },
  {
   "cell_type": "code",
   "execution_count": 116,
   "metadata": {},
   "outputs": [],
   "source": [
    "start_query = get_start_count_query(session)\n",
    "end_query = get_end_count_query(session)\n",
    "count_query = get_judge_count_query(session)\n"
   ]
  },
  {
   "cell_type": "code",
   "execution_count": 160,
   "metadata": {},
   "outputs": [],
   "source": [
    "super_dict = defaultdict(lambda: defaultdict(lambda: defaultdict(dict)))\n",
    "court_name_to_court_type = {}\n",
    "\n",
    "for row in count_query:\n",
    "    super_dict[row.year][row.court_name][row.party][\"n_judges\"] = row.count\n",
    "    court_name_to_court_type[row.court_name] = row.court_type\n",
    "    \n",
    "for row in end_query:\n",
    "    super_dict[row.year][row.court_name][row.party][\"n_terminated\"] = row.count\n",
    "    court_name_to_court_type[row.court_name] = row.court_type\n",
    "\n",
    "for row in start_query:\n",
    "    super_dict[row.year][row.court_name][row.party][\"n_appointed\"] = row.count\n",
    "    court_name_to_court_type[row.court_name] = row.court_type"
   ]
  },
  {
   "cell_type": "code",
   "execution_count": 161,
   "metadata": {},
   "outputs": [],
   "source": [
    "flat_super_dict_rows = []\n",
    "for year, court_dict in super_dict.items():\n",
    "    for court_name, party_dict in court_dict.items():\n",
    "        court_type = court_name_to_court_type[court_name]\n",
    "        for party, count_dict in party_dict.items():\n",
    "            flat_super_dict_rows.append({\n",
    "                \"year\": year,\n",
    "                \"court_name\": court_name,\n",
    "                \"court_type\": court_type,\n",
    "                \"party\": party,\n",
    "                \"n_terminated\": count_dict.get(\"n_terminated\", 0),\n",
    "                \"n_appointed\": count_dict.get(\"n_appointed\", 0),\n",
    "                \"n_judges\": count_dict.get(\"n_judges\", 0)\n",
    "            })"
   ]
  },
  {
   "cell_type": "code",
   "execution_count": 168,
   "metadata": {},
   "outputs": [],
   "source": [
    "json.dump(flat_super_dict_rows, open(\"../data/flat_court_party_judge_counts.json\", \"w\"))"
   ]
  },
  {
   "cell_type": "code",
   "execution_count": 166,
   "metadata": {},
   "outputs": [
    {
     "name": "stdout",
     "output_type": "stream",
     "text": [
      "3\n",
      "6\n",
      "1\n",
      "0\n",
      "0\n",
      "2\n"
     ]
    }
   ],
   "source": [
    "year = 1955\n",
    "court_name = 'U.S. Court of Appeals for the District of Columbia Circuit'\n",
    "court_type = None\n",
    "\n",
    "filtered_rows = []\n",
    "for row in flat_super_dict_rows:\n",
    "    if year and row['year'] != year:\n",
    "        continue\n",
    "    if court_name and row['court_name'] != court_name:\n",
    "        continue\n",
    "    if court_type and row['court_type'] != court_type:\n",
    "        continue\n",
    "        \n",
    "    filtered_rows.append(row)\n",
    "\n",
    "print(sum(\n",
    "    x[\"n_judges\"] for x in filtered_rows\n",
    "    if x[\"party\"] == 'Republican'\n",
    "))\n",
    "print(sum(\n",
    "    x[\"n_judges\"] for x in filtered_rows\n",
    "    if x[\"party\"] == 'Democratic'\n",
    "))\n",
    "\n",
    "print(sum(\n",
    "    x[\"n_appointed\"] for x in filtered_rows\n",
    "    if x[\"party\"] == 'Republican'\n",
    "))\n",
    "print(sum(\n",
    "    x[\"n_appointed\"] for x in filtered_rows\n",
    "    if x[\"party\"] == 'Democratic'\n",
    "))\n",
    "print(sum(\n",
    "    x[\"n_terminated\"] for x in filtered_rows\n",
    "    if x[\"party\"] == 'Republican'\n",
    "))\n",
    "\n",
    "print(sum(\n",
    "    x[\"n_terminated\"] for x in filtered_rows\n",
    "    if x[\"party\"] == 'Democratic'\n",
    "))"
   ]
  },
  {
   "cell_type": "code",
   "execution_count": 165,
   "metadata": {},
   "outputs": [
    {
     "data": {
      "text/plain": [
       "162"
      ]
     },
     "execution_count": 165,
     "metadata": {},
     "output_type": "execute_result"
    }
   ],
   "source": []
  },
  {
   "cell_type": "code",
   "execution_count": null,
   "metadata": {},
   "outputs": [],
   "source": []
  }
 ],
 "metadata": {
  "kernelspec": {
   "display_name": "Python 3",
   "language": "python",
   "name": "python3"
  },
  "language_info": {
   "codemirror_mode": {
    "name": "ipython",
    "version": 3
   },
   "file_extension": ".py",
   "mimetype": "text/x-python",
   "name": "python",
   "nbconvert_exporter": "python",
   "pygments_lexer": "ipython3",
   "version": "3.7.5"
  }
 },
 "nbformat": 4,
 "nbformat_minor": 4
}
