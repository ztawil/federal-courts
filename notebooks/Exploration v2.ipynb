{
 "cells": [
  {
   "cell_type": "code",
   "execution_count": 1,
   "metadata": {},
   "outputs": [],
   "source": [
    "import math\n",
    "from collections import defaultdict\n",
    "from datetime import datetime\n",
    "from sqlalchemy import sql\n",
    "from database_utils import Session; session = Session();\n",
    "from models.models import Appointment, Education, Judge, Court, YearParty, Congress\n",
    "import plotly.graph_objs as go\n",
    "from plotly.subplots import make_subplots"
   ]
  },
  {
   "cell_type": "code",
   "execution_count": 25,
   "metadata": {},
   "outputs": [],
   "source": [
    "\n",
    "def get_judge_count_query(court_type_select=None, court_name_select=None):\n",
    "\n",
    "    join_conditions = [\n",
    "        # Join condition for if the judge was serving that year\n",
    "        sql.and_(\n",
    "            Appointment.start_year < YearParty.year + 2,\n",
    "            sql.or_(\n",
    "                Appointment.end_year >= YearParty.year , Appointment.end_year.is_(None)\n",
    "            )\n",
    "        ),\n",
    "        # Join condition for party\n",
    "        YearParty.party == Appointment.party_of_appointing_president,\n",
    "    ]\n",
    "\n",
    "    if court_type_select:\n",
    "        join_conditions.append(Appointment.court_type.in_([court_type_select]))\n",
    "\n",
    "    if court_name_select:\n",
    "        join_conditions.append(Appointment.court_name.in_([court_name_select]))\n",
    "\n",
    "    return (\n",
    "        session\n",
    "        .query(\n",
    "            YearParty.year,\n",
    "            YearParty.party,\n",
    "            sql.func.count(Appointment.start_year).label('count'),\n",
    "        )\n",
    "        .outerjoin(\n",
    "            Appointment,\n",
    "            sql.and_(*join_conditions)\n",
    "        )\n",
    "        .group_by(YearParty.year, YearParty.party)\n",
    "        .order_by(YearParty.year)\n",
    "    )\n",
    "\n",
    "def get_start_count_query(court_type_select=None, court_name_select=None):\n",
    "    join_conditions = [\n",
    "        # Need to have started / left in that congress or after\n",
    "        Appointment.start_year >= YearParty.year,\n",
    "        # Need to have started /  before the start of the next congress\n",
    "        Appointment.start_year < YearParty.year + 2,\n",
    "        # Join condition for party\n",
    "        YearParty.party == Appointment.party_of_appointing_president,\n",
    "    ]\n",
    "\n",
    "    if court_type_select:\n",
    "        join_conditions.append(Appointment.court_type.in_([court_type_select]))\n",
    "\n",
    "    if court_name_select:\n",
    "        join_conditions.append(Appointment.court_name.in_([court_name_select]))\n",
    "\n",
    "    return (\n",
    "        session\n",
    "        .query(\n",
    "            YearParty.year,\n",
    "            YearParty.party,\n",
    "            sql.func.count(Appointment.start_year).label('count'),\n",
    "        )\n",
    "        .outerjoin(\n",
    "            Appointment,\n",
    "            sql.and_(*join_conditions)\n",
    "        )\n",
    "        .group_by(YearParty.year, YearParty.party)\n",
    "        .order_by(YearParty.year)\n",
    "    )\n",
    "\n",
    "def get_end_count_query(court_type_select=None, court_name_select=None):\n",
    "    join_conditions = [\n",
    "        # Need to have started / left in that congress or after\n",
    "        Appointment.end_year >= YearParty.year - 2,\n",
    "        # Need to have started /  before the start of the next congress\n",
    "        Appointment.end_year < YearParty.year,\n",
    "        # Join condition for party\n",
    "        YearParty.party == Appointment.party_of_appointing_president,\n",
    "    ]\n",
    "\n",
    "    if court_type_select:\n",
    "        join_conditions.append(Appointment.court_type.in_([court_type_select]))\n",
    "\n",
    "    if court_name_select:\n",
    "        join_conditions.append(Appointment.court_name.in_([court_name_select]))\n",
    "\n",
    "    return (\n",
    "        session\n",
    "        .query(\n",
    "            YearParty.year,\n",
    "            YearParty.party,\n",
    "            sql.func.count(Appointment.start_year).label('count'),\n",
    "        )\n",
    "        .outerjoin(\n",
    "            Appointment,\n",
    "            sql.and_(*join_conditions)\n",
    "        )\n",
    "        .group_by(YearParty.year, YearParty.party)\n",
    "        .order_by(YearParty.year)\n",
    "    )\n",
    "\n",
    "start_query = get_start_count_query().subquery('start_query')\n",
    "end_query = get_end_count_query().subquery('end_query')\n",
    "count_query = get_judge_count_query().subquery('count_query')\n",
    "\n",
    "full_query = (\n",
    "    session\n",
    "    .query(\n",
    "        count_query.c.year,\n",
    "        count_query.c.party,\n",
    "        count_query.c.count.label('n_judges'),\n",
    "        start_query.c.count.label('n_appointed'),\n",
    "        end_query.c.count.label('n_terminated'),\n",
    "    )\n",
    "    .join(\n",
    "        start_query,\n",
    "        sql.and_(\n",
    "            start_query.c.year == count_query.c.year,\n",
    "            start_query.c.party == count_query.c.party,\n",
    "        )\n",
    "    )\n",
    "    .join(\n",
    "        end_query,\n",
    "        sql.and_(\n",
    "            end_query.c.year == count_query.c.year,\n",
    "            end_query.c.party == count_query.c.party,\n",
    "        )\n",
    "    )\n",
    "    .order_by(count_query.c.year)\n",
    ")"
   ]
  },
  {
   "cell_type": "code",
   "execution_count": 26,
   "metadata": {},
   "outputs": [],
   "source": [
    "party_counts_dict = defaultdict(lambda: defaultdict(list))\n",
    "years = set() ## set because of dups\n",
    "for row in full_query:\n",
    "    years.add(row.year)\n",
    "    party_counts_dict[row.party]['n_judges'].append(row.n_judges) \n",
    "    party_counts_dict[row.party]['n_appointed'].append(row.n_appointed) \n",
    "    party_counts_dict[row.party]['n_terminated'].append(row.n_terminated) \n",
    "years = sorted(years)"
   ]
  },
  {
   "cell_type": "code",
   "execution_count": 29,
   "metadata": {
    "scrolled": true
   },
   "outputs": [
    {
     "data": {
      "application/vnd.plotly.v1+json": {
       "config": {
        "plotlyServerURL": "https://plot.ly"
       },
       "data": [
        {
         "error_y": {
          "array": [
           0,
           0,
           0,
           0,
           0,
           0,
           23,
           20,
           20,
           19,
           0,
           0,
           0,
           0,
           0,
           0,
           18,
           30,
           46,
           62,
           36,
           25,
           42,
           25,
           66,
           23,
           0,
           0,
           0,
           0,
           121,
           37,
           97,
           66,
           0,
           0,
           0,
           0,
           66,
           200,
           1,
           0,
           0,
           0,
           0,
           0,
           131,
           76,
           102,
           74,
           0,
           0,
           0,
           0,
           62,
           112,
           134,
           22,
           0,
           0
          ],
          "arrayminus": [
           1,
           1,
           4,
           11,
           4,
           6,
           5,
           0,
           8,
           3,
           6,
           2,
           7,
           9,
           10,
           11,
           8,
           3,
           9,
           7,
           20,
           9,
           11,
           16,
           29,
           25,
           15,
           22,
           22,
           31,
           20,
           43,
           28,
           68,
           21,
           18,
           32,
           33,
           38,
           39,
           50,
           56,
           20,
           30,
           15,
           31,
           61,
           45,
           44,
           20,
           17,
           21,
           18,
           21,
           25,
           67,
           66,
           55,
           33,
           31
          ],
          "symmetric": false,
          "type": "data"
         },
         "mode": "markers",
         "type": "scatter",
         "x": [
          1901,
          1903,
          1905,
          1907,
          1909,
          1911,
          1913,
          1915,
          1917,
          1919,
          1921,
          1923,
          1925,
          1927,
          1929,
          1931,
          1933,
          1935,
          1937,
          1939,
          1941,
          1943,
          1945,
          1947,
          1949,
          1951,
          1953,
          1955,
          1957,
          1959,
          1961,
          1963,
          1965,
          1967,
          1969,
          1971,
          1973,
          1975,
          1977,
          1979,
          1981,
          1983,
          1985,
          1987,
          1989,
          1991,
          1993,
          1995,
          1997,
          1999,
          2001,
          2003,
          2005,
          2007,
          2009,
          2011,
          2013,
          2015,
          2017,
          2019
         ],
         "y": [
          41,
          40,
          36,
          25,
          21,
          15,
          33,
          53,
          65,
          81,
          75,
          73,
          66,
          57,
          47,
          36,
          46,
          73,
          110,
          165,
          181,
          197,
          228,
          237,
          274,
          272,
          257,
          235,
          213,
          182,
          283,
          277,
          346,
          344,
          323,
          305,
          273,
          240,
          268,
          429,
          380,
          324,
          304,
          274,
          259,
          228,
          298,
          329,
          387,
          441,
          424,
          403,
          385,
          364,
          401,
          446,
          514,
          481,
          448,
          417
         ]
        },
        {
         "error_y": {
          "array": [
           23,
           21,
           37,
           23,
           37,
           38,
           0,
           0,
           0,
           0,
           29,
           41,
           29,
           38,
           40,
           40,
           0,
           0,
           0,
           0,
           0,
           0,
           0,
           0,
           0,
           0,
           57,
           45,
           41,
           48,
           0,
           0,
           0,
           0,
           92,
           104,
           59,
           51,
           0,
           0,
           91,
           79,
           132,
           85,
           72,
           122,
           0,
           0,
           0,
           0,
           101,
           106,
           53,
           68,
           0,
           0,
           0,
           0,
           86,
           67
          ],
          "arrayminus": [
           12,
           17,
           11,
           18,
           11,
           21,
           54,
           23,
           13,
           14,
           10,
           23,
           14,
           15,
           21,
           19,
           20,
           15,
           13,
           21,
           18,
           18,
           13,
           13,
           11,
           10,
           8,
           15,
           12,
           23,
           17,
           9,
           10,
           18,
           15,
           30,
           50,
           25,
           26,
           13,
           26,
           47,
           44,
           48,
           47,
           46,
           47,
           35,
           53,
           54,
           56,
           60,
           51,
           51,
           39,
           37,
           31,
           46,
           52,
           84
          ],
          "symmetric": false,
          "type": "data"
         },
         "mode": "markers",
         "type": "scatter",
         "x": [
          1901,
          1903,
          1905,
          1907,
          1909,
          1911,
          1913,
          1915,
          1917,
          1919,
          1921,
          1923,
          1925,
          1927,
          1929,
          1931,
          1933,
          1935,
          1937,
          1939,
          1941,
          1943,
          1945,
          1947,
          1949,
          1951,
          1953,
          1955,
          1957,
          1959,
          1961,
          1963,
          1965,
          1967,
          1969,
          1971,
          1973,
          1975,
          1977,
          1979,
          1981,
          1983,
          1985,
          1987,
          1989,
          1991,
          1993,
          1995,
          1997,
          1999,
          2001,
          2003,
          2005,
          2007,
          2009,
          2011,
          2013,
          2015,
          2017,
          2019
         ],
         "y": [
          117,
          121,
          147,
          152,
          178,
          195,
          141,
          118,
          105,
          91,
          110,
          128,
          143,
          166,
          185,
          206,
          186,
          171,
          158,
          137,
          119,
          101,
          88,
          75,
          64,
          54,
          103,
          133,
          162,
          187,
          170,
          161,
          151,
          133,
          210,
          284,
          293,
          319,
          293,
          280,
          345,
          377,
          465,
          502,
          527,
          603,
          556,
          521,
          468,
          414,
          459,
          505,
          507,
          524,
          485,
          448,
          417,
          371,
          405,
          388
         ]
        }
       ],
       "layout": {
        "template": {
         "data": {
          "bar": [
           {
            "error_x": {
             "color": "#2a3f5f"
            },
            "error_y": {
             "color": "#2a3f5f"
            },
            "marker": {
             "line": {
              "color": "#E5ECF6",
              "width": 0.5
             }
            },
            "type": "bar"
           }
          ],
          "barpolar": [
           {
            "marker": {
             "line": {
              "color": "#E5ECF6",
              "width": 0.5
             }
            },
            "type": "barpolar"
           }
          ],
          "carpet": [
           {
            "aaxis": {
             "endlinecolor": "#2a3f5f",
             "gridcolor": "white",
             "linecolor": "white",
             "minorgridcolor": "white",
             "startlinecolor": "#2a3f5f"
            },
            "baxis": {
             "endlinecolor": "#2a3f5f",
             "gridcolor": "white",
             "linecolor": "white",
             "minorgridcolor": "white",
             "startlinecolor": "#2a3f5f"
            },
            "type": "carpet"
           }
          ],
          "choropleth": [
           {
            "colorbar": {
             "outlinewidth": 0,
             "ticks": ""
            },
            "type": "choropleth"
           }
          ],
          "contour": [
           {
            "colorbar": {
             "outlinewidth": 0,
             "ticks": ""
            },
            "colorscale": [
             [
              0,
              "#0d0887"
             ],
             [
              0.1111111111111111,
              "#46039f"
             ],
             [
              0.2222222222222222,
              "#7201a8"
             ],
             [
              0.3333333333333333,
              "#9c179e"
             ],
             [
              0.4444444444444444,
              "#bd3786"
             ],
             [
              0.5555555555555556,
              "#d8576b"
             ],
             [
              0.6666666666666666,
              "#ed7953"
             ],
             [
              0.7777777777777778,
              "#fb9f3a"
             ],
             [
              0.8888888888888888,
              "#fdca26"
             ],
             [
              1,
              "#f0f921"
             ]
            ],
            "type": "contour"
           }
          ],
          "contourcarpet": [
           {
            "colorbar": {
             "outlinewidth": 0,
             "ticks": ""
            },
            "type": "contourcarpet"
           }
          ],
          "heatmap": [
           {
            "colorbar": {
             "outlinewidth": 0,
             "ticks": ""
            },
            "colorscale": [
             [
              0,
              "#0d0887"
             ],
             [
              0.1111111111111111,
              "#46039f"
             ],
             [
              0.2222222222222222,
              "#7201a8"
             ],
             [
              0.3333333333333333,
              "#9c179e"
             ],
             [
              0.4444444444444444,
              "#bd3786"
             ],
             [
              0.5555555555555556,
              "#d8576b"
             ],
             [
              0.6666666666666666,
              "#ed7953"
             ],
             [
              0.7777777777777778,
              "#fb9f3a"
             ],
             [
              0.8888888888888888,
              "#fdca26"
             ],
             [
              1,
              "#f0f921"
             ]
            ],
            "type": "heatmap"
           }
          ],
          "heatmapgl": [
           {
            "colorbar": {
             "outlinewidth": 0,
             "ticks": ""
            },
            "colorscale": [
             [
              0,
              "#0d0887"
             ],
             [
              0.1111111111111111,
              "#46039f"
             ],
             [
              0.2222222222222222,
              "#7201a8"
             ],
             [
              0.3333333333333333,
              "#9c179e"
             ],
             [
              0.4444444444444444,
              "#bd3786"
             ],
             [
              0.5555555555555556,
              "#d8576b"
             ],
             [
              0.6666666666666666,
              "#ed7953"
             ],
             [
              0.7777777777777778,
              "#fb9f3a"
             ],
             [
              0.8888888888888888,
              "#fdca26"
             ],
             [
              1,
              "#f0f921"
             ]
            ],
            "type": "heatmapgl"
           }
          ],
          "histogram": [
           {
            "marker": {
             "colorbar": {
              "outlinewidth": 0,
              "ticks": ""
             }
            },
            "type": "histogram"
           }
          ],
          "histogram2d": [
           {
            "colorbar": {
             "outlinewidth": 0,
             "ticks": ""
            },
            "colorscale": [
             [
              0,
              "#0d0887"
             ],
             [
              0.1111111111111111,
              "#46039f"
             ],
             [
              0.2222222222222222,
              "#7201a8"
             ],
             [
              0.3333333333333333,
              "#9c179e"
             ],
             [
              0.4444444444444444,
              "#bd3786"
             ],
             [
              0.5555555555555556,
              "#d8576b"
             ],
             [
              0.6666666666666666,
              "#ed7953"
             ],
             [
              0.7777777777777778,
              "#fb9f3a"
             ],
             [
              0.8888888888888888,
              "#fdca26"
             ],
             [
              1,
              "#f0f921"
             ]
            ],
            "type": "histogram2d"
           }
          ],
          "histogram2dcontour": [
           {
            "colorbar": {
             "outlinewidth": 0,
             "ticks": ""
            },
            "colorscale": [
             [
              0,
              "#0d0887"
             ],
             [
              0.1111111111111111,
              "#46039f"
             ],
             [
              0.2222222222222222,
              "#7201a8"
             ],
             [
              0.3333333333333333,
              "#9c179e"
             ],
             [
              0.4444444444444444,
              "#bd3786"
             ],
             [
              0.5555555555555556,
              "#d8576b"
             ],
             [
              0.6666666666666666,
              "#ed7953"
             ],
             [
              0.7777777777777778,
              "#fb9f3a"
             ],
             [
              0.8888888888888888,
              "#fdca26"
             ],
             [
              1,
              "#f0f921"
             ]
            ],
            "type": "histogram2dcontour"
           }
          ],
          "mesh3d": [
           {
            "colorbar": {
             "outlinewidth": 0,
             "ticks": ""
            },
            "type": "mesh3d"
           }
          ],
          "parcoords": [
           {
            "line": {
             "colorbar": {
              "outlinewidth": 0,
              "ticks": ""
             }
            },
            "type": "parcoords"
           }
          ],
          "scatter": [
           {
            "marker": {
             "colorbar": {
              "outlinewidth": 0,
              "ticks": ""
             }
            },
            "type": "scatter"
           }
          ],
          "scatter3d": [
           {
            "line": {
             "colorbar": {
              "outlinewidth": 0,
              "ticks": ""
             }
            },
            "marker": {
             "colorbar": {
              "outlinewidth": 0,
              "ticks": ""
             }
            },
            "type": "scatter3d"
           }
          ],
          "scattercarpet": [
           {
            "marker": {
             "colorbar": {
              "outlinewidth": 0,
              "ticks": ""
             }
            },
            "type": "scattercarpet"
           }
          ],
          "scattergeo": [
           {
            "marker": {
             "colorbar": {
              "outlinewidth": 0,
              "ticks": ""
             }
            },
            "type": "scattergeo"
           }
          ],
          "scattergl": [
           {
            "marker": {
             "colorbar": {
              "outlinewidth": 0,
              "ticks": ""
             }
            },
            "type": "scattergl"
           }
          ],
          "scattermapbox": [
           {
            "marker": {
             "colorbar": {
              "outlinewidth": 0,
              "ticks": ""
             }
            },
            "type": "scattermapbox"
           }
          ],
          "scatterpolar": [
           {
            "marker": {
             "colorbar": {
              "outlinewidth": 0,
              "ticks": ""
             }
            },
            "type": "scatterpolar"
           }
          ],
          "scatterpolargl": [
           {
            "marker": {
             "colorbar": {
              "outlinewidth": 0,
              "ticks": ""
             }
            },
            "type": "scatterpolargl"
           }
          ],
          "scatterternary": [
           {
            "marker": {
             "colorbar": {
              "outlinewidth": 0,
              "ticks": ""
             }
            },
            "type": "scatterternary"
           }
          ],
          "surface": [
           {
            "colorbar": {
             "outlinewidth": 0,
             "ticks": ""
            },
            "colorscale": [
             [
              0,
              "#0d0887"
             ],
             [
              0.1111111111111111,
              "#46039f"
             ],
             [
              0.2222222222222222,
              "#7201a8"
             ],
             [
              0.3333333333333333,
              "#9c179e"
             ],
             [
              0.4444444444444444,
              "#bd3786"
             ],
             [
              0.5555555555555556,
              "#d8576b"
             ],
             [
              0.6666666666666666,
              "#ed7953"
             ],
             [
              0.7777777777777778,
              "#fb9f3a"
             ],
             [
              0.8888888888888888,
              "#fdca26"
             ],
             [
              1,
              "#f0f921"
             ]
            ],
            "type": "surface"
           }
          ],
          "table": [
           {
            "cells": {
             "fill": {
              "color": "#EBF0F8"
             },
             "line": {
              "color": "white"
             }
            },
            "header": {
             "fill": {
              "color": "#C8D4E3"
             },
             "line": {
              "color": "white"
             }
            },
            "type": "table"
           }
          ]
         },
         "layout": {
          "annotationdefaults": {
           "arrowcolor": "#2a3f5f",
           "arrowhead": 0,
           "arrowwidth": 1
          },
          "colorscale": {
           "diverging": [
            [
             0,
             "#8e0152"
            ],
            [
             0.1,
             "#c51b7d"
            ],
            [
             0.2,
             "#de77ae"
            ],
            [
             0.3,
             "#f1b6da"
            ],
            [
             0.4,
             "#fde0ef"
            ],
            [
             0.5,
             "#f7f7f7"
            ],
            [
             0.6,
             "#e6f5d0"
            ],
            [
             0.7,
             "#b8e186"
            ],
            [
             0.8,
             "#7fbc41"
            ],
            [
             0.9,
             "#4d9221"
            ],
            [
             1,
             "#276419"
            ]
           ],
           "sequential": [
            [
             0,
             "#0d0887"
            ],
            [
             0.1111111111111111,
             "#46039f"
            ],
            [
             0.2222222222222222,
             "#7201a8"
            ],
            [
             0.3333333333333333,
             "#9c179e"
            ],
            [
             0.4444444444444444,
             "#bd3786"
            ],
            [
             0.5555555555555556,
             "#d8576b"
            ],
            [
             0.6666666666666666,
             "#ed7953"
            ],
            [
             0.7777777777777778,
             "#fb9f3a"
            ],
            [
             0.8888888888888888,
             "#fdca26"
            ],
            [
             1,
             "#f0f921"
            ]
           ],
           "sequentialminus": [
            [
             0,
             "#0d0887"
            ],
            [
             0.1111111111111111,
             "#46039f"
            ],
            [
             0.2222222222222222,
             "#7201a8"
            ],
            [
             0.3333333333333333,
             "#9c179e"
            ],
            [
             0.4444444444444444,
             "#bd3786"
            ],
            [
             0.5555555555555556,
             "#d8576b"
            ],
            [
             0.6666666666666666,
             "#ed7953"
            ],
            [
             0.7777777777777778,
             "#fb9f3a"
            ],
            [
             0.8888888888888888,
             "#fdca26"
            ],
            [
             1,
             "#f0f921"
            ]
           ]
          },
          "colorway": [
           "#636efa",
           "#EF553B",
           "#00cc96",
           "#ab63fa",
           "#FFA15A",
           "#19d3f3",
           "#FF6692",
           "#B6E880",
           "#FF97FF",
           "#FECB52"
          ],
          "font": {
           "color": "#2a3f5f"
          },
          "geo": {
           "bgcolor": "white",
           "lakecolor": "white",
           "landcolor": "#E5ECF6",
           "showlakes": true,
           "showland": true,
           "subunitcolor": "white"
          },
          "hoverlabel": {
           "align": "left"
          },
          "hovermode": "closest",
          "mapbox": {
           "style": "light"
          },
          "paper_bgcolor": "white",
          "plot_bgcolor": "#E5ECF6",
          "polar": {
           "angularaxis": {
            "gridcolor": "white",
            "linecolor": "white",
            "ticks": ""
           },
           "bgcolor": "#E5ECF6",
           "radialaxis": {
            "gridcolor": "white",
            "linecolor": "white",
            "ticks": ""
           }
          },
          "scene": {
           "xaxis": {
            "backgroundcolor": "#E5ECF6",
            "gridcolor": "white",
            "gridwidth": 2,
            "linecolor": "white",
            "showbackground": true,
            "ticks": "",
            "zerolinecolor": "white"
           },
           "yaxis": {
            "backgroundcolor": "#E5ECF6",
            "gridcolor": "white",
            "gridwidth": 2,
            "linecolor": "white",
            "showbackground": true,
            "ticks": "",
            "zerolinecolor": "white"
           },
           "zaxis": {
            "backgroundcolor": "#E5ECF6",
            "gridcolor": "white",
            "gridwidth": 2,
            "linecolor": "white",
            "showbackground": true,
            "ticks": "",
            "zerolinecolor": "white"
           }
          },
          "shapedefaults": {
           "line": {
            "color": "#2a3f5f"
           }
          },
          "ternary": {
           "aaxis": {
            "gridcolor": "white",
            "linecolor": "white",
            "ticks": ""
           },
           "baxis": {
            "gridcolor": "white",
            "linecolor": "white",
            "ticks": ""
           },
           "bgcolor": "#E5ECF6",
           "caxis": {
            "gridcolor": "white",
            "linecolor": "white",
            "ticks": ""
           }
          },
          "title": {
           "x": 0.05
          },
          "xaxis": {
           "automargin": true,
           "gridcolor": "white",
           "linecolor": "white",
           "ticks": "",
           "zerolinecolor": "white",
           "zerolinewidth": 2
          },
          "yaxis": {
           "automargin": true,
           "gridcolor": "white",
           "linecolor": "white",
           "ticks": "",
           "zerolinecolor": "white",
           "zerolinewidth": 2
          }
         }
        }
       }
      },
      "text/html": [
       "<div>\n",
       "        \n",
       "        \n",
       "            <div id=\"a0678568-e525-42b0-bada-6679a81964d2\" class=\"plotly-graph-div\" style=\"height:525px; width:100%;\"></div>\n",
       "            <script type=\"text/javascript\">\n",
       "                require([\"plotly\"], function(Plotly) {\n",
       "                    window.PLOTLYENV=window.PLOTLYENV || {};\n",
       "                    \n",
       "                if (document.getElementById(\"a0678568-e525-42b0-bada-6679a81964d2\")) {\n",
       "                    Plotly.newPlot(\n",
       "                        'a0678568-e525-42b0-bada-6679a81964d2',\n",
       "                        [{\"error_y\": {\"array\": [0, 0, 0, 0, 0, 0, 23, 20, 20, 19, 0, 0, 0, 0, 0, 0, 18, 30, 46, 62, 36, 25, 42, 25, 66, 23, 0, 0, 0, 0, 121, 37, 97, 66, 0, 0, 0, 0, 66, 200, 1, 0, 0, 0, 0, 0, 131, 76, 102, 74, 0, 0, 0, 0, 62, 112, 134, 22, 0, 0], \"arrayminus\": [1, 1, 4, 11, 4, 6, 5, 0, 8, 3, 6, 2, 7, 9, 10, 11, 8, 3, 9, 7, 20, 9, 11, 16, 29, 25, 15, 22, 22, 31, 20, 43, 28, 68, 21, 18, 32, 33, 38, 39, 50, 56, 20, 30, 15, 31, 61, 45, 44, 20, 17, 21, 18, 21, 25, 67, 66, 55, 33, 31], \"symmetric\": false, \"type\": \"data\"}, \"mode\": \"markers\", \"type\": \"scatter\", \"x\": [1901, 1903, 1905, 1907, 1909, 1911, 1913, 1915, 1917, 1919, 1921, 1923, 1925, 1927, 1929, 1931, 1933, 1935, 1937, 1939, 1941, 1943, 1945, 1947, 1949, 1951, 1953, 1955, 1957, 1959, 1961, 1963, 1965, 1967, 1969, 1971, 1973, 1975, 1977, 1979, 1981, 1983, 1985, 1987, 1989, 1991, 1993, 1995, 1997, 1999, 2001, 2003, 2005, 2007, 2009, 2011, 2013, 2015, 2017, 2019], \"y\": [41, 40, 36, 25, 21, 15, 33, 53, 65, 81, 75, 73, 66, 57, 47, 36, 46, 73, 110, 165, 181, 197, 228, 237, 274, 272, 257, 235, 213, 182, 283, 277, 346, 344, 323, 305, 273, 240, 268, 429, 380, 324, 304, 274, 259, 228, 298, 329, 387, 441, 424, 403, 385, 364, 401, 446, 514, 481, 448, 417]}, {\"error_y\": {\"array\": [23, 21, 37, 23, 37, 38, 0, 0, 0, 0, 29, 41, 29, 38, 40, 40, 0, 0, 0, 0, 0, 0, 0, 0, 0, 0, 57, 45, 41, 48, 0, 0, 0, 0, 92, 104, 59, 51, 0, 0, 91, 79, 132, 85, 72, 122, 0, 0, 0, 0, 101, 106, 53, 68, 0, 0, 0, 0, 86, 67], \"arrayminus\": [12, 17, 11, 18, 11, 21, 54, 23, 13, 14, 10, 23, 14, 15, 21, 19, 20, 15, 13, 21, 18, 18, 13, 13, 11, 10, 8, 15, 12, 23, 17, 9, 10, 18, 15, 30, 50, 25, 26, 13, 26, 47, 44, 48, 47, 46, 47, 35, 53, 54, 56, 60, 51, 51, 39, 37, 31, 46, 52, 84], \"symmetric\": false, \"type\": \"data\"}, \"mode\": \"markers\", \"type\": \"scatter\", \"x\": [1901, 1903, 1905, 1907, 1909, 1911, 1913, 1915, 1917, 1919, 1921, 1923, 1925, 1927, 1929, 1931, 1933, 1935, 1937, 1939, 1941, 1943, 1945, 1947, 1949, 1951, 1953, 1955, 1957, 1959, 1961, 1963, 1965, 1967, 1969, 1971, 1973, 1975, 1977, 1979, 1981, 1983, 1985, 1987, 1989, 1991, 1993, 1995, 1997, 1999, 2001, 2003, 2005, 2007, 2009, 2011, 2013, 2015, 2017, 2019], \"y\": [117, 121, 147, 152, 178, 195, 141, 118, 105, 91, 110, 128, 143, 166, 185, 206, 186, 171, 158, 137, 119, 101, 88, 75, 64, 54, 103, 133, 162, 187, 170, 161, 151, 133, 210, 284, 293, 319, 293, 280, 345, 377, 465, 502, 527, 603, 556, 521, 468, 414, 459, 505, 507, 524, 485, 448, 417, 371, 405, 388]}],\n",
       "                        {\"template\": {\"data\": {\"bar\": [{\"error_x\": {\"color\": \"#2a3f5f\"}, \"error_y\": {\"color\": \"#2a3f5f\"}, \"marker\": {\"line\": {\"color\": \"#E5ECF6\", \"width\": 0.5}}, \"type\": \"bar\"}], \"barpolar\": [{\"marker\": {\"line\": {\"color\": \"#E5ECF6\", \"width\": 0.5}}, \"type\": \"barpolar\"}], \"carpet\": [{\"aaxis\": {\"endlinecolor\": \"#2a3f5f\", \"gridcolor\": \"white\", \"linecolor\": \"white\", \"minorgridcolor\": \"white\", \"startlinecolor\": \"#2a3f5f\"}, \"baxis\": {\"endlinecolor\": \"#2a3f5f\", \"gridcolor\": \"white\", \"linecolor\": \"white\", \"minorgridcolor\": \"white\", \"startlinecolor\": \"#2a3f5f\"}, \"type\": \"carpet\"}], \"choropleth\": [{\"colorbar\": {\"outlinewidth\": 0, \"ticks\": \"\"}, \"type\": \"choropleth\"}], \"contour\": [{\"colorbar\": {\"outlinewidth\": 0, \"ticks\": \"\"}, \"colorscale\": [[0.0, \"#0d0887\"], [0.1111111111111111, \"#46039f\"], [0.2222222222222222, \"#7201a8\"], [0.3333333333333333, \"#9c179e\"], [0.4444444444444444, \"#bd3786\"], [0.5555555555555556, \"#d8576b\"], [0.6666666666666666, \"#ed7953\"], [0.7777777777777778, \"#fb9f3a\"], [0.8888888888888888, \"#fdca26\"], [1.0, \"#f0f921\"]], \"type\": \"contour\"}], \"contourcarpet\": [{\"colorbar\": {\"outlinewidth\": 0, \"ticks\": \"\"}, \"type\": \"contourcarpet\"}], \"heatmap\": [{\"colorbar\": {\"outlinewidth\": 0, \"ticks\": \"\"}, \"colorscale\": [[0.0, \"#0d0887\"], [0.1111111111111111, \"#46039f\"], [0.2222222222222222, \"#7201a8\"], [0.3333333333333333, \"#9c179e\"], [0.4444444444444444, \"#bd3786\"], [0.5555555555555556, \"#d8576b\"], [0.6666666666666666, \"#ed7953\"], [0.7777777777777778, \"#fb9f3a\"], [0.8888888888888888, \"#fdca26\"], [1.0, \"#f0f921\"]], \"type\": \"heatmap\"}], \"heatmapgl\": [{\"colorbar\": {\"outlinewidth\": 0, \"ticks\": \"\"}, \"colorscale\": [[0.0, \"#0d0887\"], [0.1111111111111111, \"#46039f\"], [0.2222222222222222, \"#7201a8\"], [0.3333333333333333, \"#9c179e\"], [0.4444444444444444, \"#bd3786\"], [0.5555555555555556, \"#d8576b\"], [0.6666666666666666, \"#ed7953\"], [0.7777777777777778, \"#fb9f3a\"], [0.8888888888888888, \"#fdca26\"], [1.0, \"#f0f921\"]], \"type\": \"heatmapgl\"}], \"histogram\": [{\"marker\": {\"colorbar\": {\"outlinewidth\": 0, \"ticks\": \"\"}}, \"type\": \"histogram\"}], \"histogram2d\": [{\"colorbar\": {\"outlinewidth\": 0, \"ticks\": \"\"}, \"colorscale\": [[0.0, \"#0d0887\"], [0.1111111111111111, \"#46039f\"], [0.2222222222222222, \"#7201a8\"], [0.3333333333333333, \"#9c179e\"], [0.4444444444444444, \"#bd3786\"], [0.5555555555555556, \"#d8576b\"], [0.6666666666666666, \"#ed7953\"], [0.7777777777777778, \"#fb9f3a\"], [0.8888888888888888, \"#fdca26\"], [1.0, \"#f0f921\"]], \"type\": \"histogram2d\"}], \"histogram2dcontour\": [{\"colorbar\": {\"outlinewidth\": 0, \"ticks\": \"\"}, \"colorscale\": [[0.0, \"#0d0887\"], [0.1111111111111111, \"#46039f\"], [0.2222222222222222, \"#7201a8\"], [0.3333333333333333, \"#9c179e\"], [0.4444444444444444, \"#bd3786\"], [0.5555555555555556, \"#d8576b\"], [0.6666666666666666, \"#ed7953\"], [0.7777777777777778, \"#fb9f3a\"], [0.8888888888888888, \"#fdca26\"], [1.0, \"#f0f921\"]], \"type\": \"histogram2dcontour\"}], \"mesh3d\": [{\"colorbar\": {\"outlinewidth\": 0, \"ticks\": \"\"}, \"type\": \"mesh3d\"}], \"parcoords\": [{\"line\": {\"colorbar\": {\"outlinewidth\": 0, \"ticks\": \"\"}}, \"type\": \"parcoords\"}], \"scatter\": [{\"marker\": {\"colorbar\": {\"outlinewidth\": 0, \"ticks\": \"\"}}, \"type\": \"scatter\"}], \"scatter3d\": [{\"line\": {\"colorbar\": {\"outlinewidth\": 0, \"ticks\": \"\"}}, \"marker\": {\"colorbar\": {\"outlinewidth\": 0, \"ticks\": \"\"}}, \"type\": \"scatter3d\"}], \"scattercarpet\": [{\"marker\": {\"colorbar\": {\"outlinewidth\": 0, \"ticks\": \"\"}}, \"type\": \"scattercarpet\"}], \"scattergeo\": [{\"marker\": {\"colorbar\": {\"outlinewidth\": 0, \"ticks\": \"\"}}, \"type\": \"scattergeo\"}], \"scattergl\": [{\"marker\": {\"colorbar\": {\"outlinewidth\": 0, \"ticks\": \"\"}}, \"type\": \"scattergl\"}], \"scattermapbox\": [{\"marker\": {\"colorbar\": {\"outlinewidth\": 0, \"ticks\": \"\"}}, \"type\": \"scattermapbox\"}], \"scatterpolar\": [{\"marker\": {\"colorbar\": {\"outlinewidth\": 0, \"ticks\": \"\"}}, \"type\": \"scatterpolar\"}], \"scatterpolargl\": [{\"marker\": {\"colorbar\": {\"outlinewidth\": 0, \"ticks\": \"\"}}, \"type\": \"scatterpolargl\"}], \"scatterternary\": [{\"marker\": {\"colorbar\": {\"outlinewidth\": 0, \"ticks\": \"\"}}, \"type\": \"scatterternary\"}], \"surface\": [{\"colorbar\": {\"outlinewidth\": 0, \"ticks\": \"\"}, \"colorscale\": [[0.0, \"#0d0887\"], [0.1111111111111111, \"#46039f\"], [0.2222222222222222, \"#7201a8\"], [0.3333333333333333, \"#9c179e\"], [0.4444444444444444, \"#bd3786\"], [0.5555555555555556, \"#d8576b\"], [0.6666666666666666, \"#ed7953\"], [0.7777777777777778, \"#fb9f3a\"], [0.8888888888888888, \"#fdca26\"], [1.0, \"#f0f921\"]], \"type\": \"surface\"}], \"table\": [{\"cells\": {\"fill\": {\"color\": \"#EBF0F8\"}, \"line\": {\"color\": \"white\"}}, \"header\": {\"fill\": {\"color\": \"#C8D4E3\"}, \"line\": {\"color\": \"white\"}}, \"type\": \"table\"}]}, \"layout\": {\"annotationdefaults\": {\"arrowcolor\": \"#2a3f5f\", \"arrowhead\": 0, \"arrowwidth\": 1}, \"colorscale\": {\"diverging\": [[0, \"#8e0152\"], [0.1, \"#c51b7d\"], [0.2, \"#de77ae\"], [0.3, \"#f1b6da\"], [0.4, \"#fde0ef\"], [0.5, \"#f7f7f7\"], [0.6, \"#e6f5d0\"], [0.7, \"#b8e186\"], [0.8, \"#7fbc41\"], [0.9, \"#4d9221\"], [1, \"#276419\"]], \"sequential\": [[0.0, \"#0d0887\"], [0.1111111111111111, \"#46039f\"], [0.2222222222222222, \"#7201a8\"], [0.3333333333333333, \"#9c179e\"], [0.4444444444444444, \"#bd3786\"], [0.5555555555555556, \"#d8576b\"], [0.6666666666666666, \"#ed7953\"], [0.7777777777777778, \"#fb9f3a\"], [0.8888888888888888, \"#fdca26\"], [1.0, \"#f0f921\"]], \"sequentialminus\": [[0.0, \"#0d0887\"], [0.1111111111111111, \"#46039f\"], [0.2222222222222222, \"#7201a8\"], [0.3333333333333333, \"#9c179e\"], [0.4444444444444444, \"#bd3786\"], [0.5555555555555556, \"#d8576b\"], [0.6666666666666666, \"#ed7953\"], [0.7777777777777778, \"#fb9f3a\"], [0.8888888888888888, \"#fdca26\"], [1.0, \"#f0f921\"]]}, \"colorway\": [\"#636efa\", \"#EF553B\", \"#00cc96\", \"#ab63fa\", \"#FFA15A\", \"#19d3f3\", \"#FF6692\", \"#B6E880\", \"#FF97FF\", \"#FECB52\"], \"font\": {\"color\": \"#2a3f5f\"}, \"geo\": {\"bgcolor\": \"white\", \"lakecolor\": \"white\", \"landcolor\": \"#E5ECF6\", \"showlakes\": true, \"showland\": true, \"subunitcolor\": \"white\"}, \"hoverlabel\": {\"align\": \"left\"}, \"hovermode\": \"closest\", \"mapbox\": {\"style\": \"light\"}, \"paper_bgcolor\": \"white\", \"plot_bgcolor\": \"#E5ECF6\", \"polar\": {\"angularaxis\": {\"gridcolor\": \"white\", \"linecolor\": \"white\", \"ticks\": \"\"}, \"bgcolor\": \"#E5ECF6\", \"radialaxis\": {\"gridcolor\": \"white\", \"linecolor\": \"white\", \"ticks\": \"\"}}, \"scene\": {\"xaxis\": {\"backgroundcolor\": \"#E5ECF6\", \"gridcolor\": \"white\", \"gridwidth\": 2, \"linecolor\": \"white\", \"showbackground\": true, \"ticks\": \"\", \"zerolinecolor\": \"white\"}, \"yaxis\": {\"backgroundcolor\": \"#E5ECF6\", \"gridcolor\": \"white\", \"gridwidth\": 2, \"linecolor\": \"white\", \"showbackground\": true, \"ticks\": \"\", \"zerolinecolor\": \"white\"}, \"zaxis\": {\"backgroundcolor\": \"#E5ECF6\", \"gridcolor\": \"white\", \"gridwidth\": 2, \"linecolor\": \"white\", \"showbackground\": true, \"ticks\": \"\", \"zerolinecolor\": \"white\"}}, \"shapedefaults\": {\"line\": {\"color\": \"#2a3f5f\"}}, \"ternary\": {\"aaxis\": {\"gridcolor\": \"white\", \"linecolor\": \"white\", \"ticks\": \"\"}, \"baxis\": {\"gridcolor\": \"white\", \"linecolor\": \"white\", \"ticks\": \"\"}, \"bgcolor\": \"#E5ECF6\", \"caxis\": {\"gridcolor\": \"white\", \"linecolor\": \"white\", \"ticks\": \"\"}}, \"title\": {\"x\": 0.05}, \"xaxis\": {\"automargin\": true, \"gridcolor\": \"white\", \"linecolor\": \"white\", \"ticks\": \"\", \"zerolinecolor\": \"white\", \"zerolinewidth\": 2}, \"yaxis\": {\"automargin\": true, \"gridcolor\": \"white\", \"linecolor\": \"white\", \"ticks\": \"\", \"zerolinecolor\": \"white\", \"zerolinewidth\": 2}}}},\n",
       "                        {\"responsive\": true}\n",
       "                    ).then(function(){\n",
       "                            \n",
       "var gd = document.getElementById('a0678568-e525-42b0-bada-6679a81964d2');\n",
       "var x = new MutationObserver(function (mutations, observer) {{\n",
       "        var display = window.getComputedStyle(gd).display;\n",
       "        if (!display || display === 'none') {{\n",
       "            console.log([gd, 'removed!']);\n",
       "            Plotly.purge(gd);\n",
       "            observer.disconnect();\n",
       "        }}\n",
       "}});\n",
       "\n",
       "// Listen for the removal of the full notebook cells\n",
       "var notebookContainer = gd.closest('#notebook-container');\n",
       "if (notebookContainer) {{\n",
       "    x.observe(notebookContainer, {childList: true});\n",
       "}}\n",
       "\n",
       "// Listen for the clearing of the current output cell\n",
       "var outputEl = gd.closest('.output');\n",
       "if (outputEl) {{\n",
       "    x.observe(outputEl, {childList: true});\n",
       "}}\n",
       "\n",
       "                        })\n",
       "                };\n",
       "                });\n",
       "            </script>\n",
       "        </div>"
      ]
     },
     "metadata": {},
     "output_type": "display_data"
    }
   ],
   "source": [
    "fig = go.Figure()\n",
    "for party, counts_dict in party_counts_dict.items():\n",
    "    fig.add_trace(\n",
    "        go.Scatter(\n",
    "            x=years,\n",
    "            y=counts_dict['n_judges'],\n",
    "            mode='markers',\n",
    "            error_y=dict(\n",
    "                type='data',\n",
    "                symmetric=False,\n",
    "                array=counts_dict['n_appointed'],\n",
    "                arrayminus=counts_dict['n_terminated'])\n",
    "            )\n",
    "    )\n",
    "fig.show()"
   ]
  },
  {
   "cell_type": "code",
   "execution_count": 19,
   "metadata": {},
   "outputs": [],
   "source": [
    "169 - 286\n",
    "\n",
    "y1 = {\n",
    "    1377161,\n",
    "    1378371,\n",
    "    1384356,\n",
    "    1384461,\n",
    "    1385496,\n",
    "    1385696,\n",
    "    1387171,\n",
    "    1388881,\n",
    "    1389571,\n",
    "    1393071,\n",
    "}\n",
    "\n",
    "y2 = {\n",
    "    1377161,\n",
    "    1377841,\n",
    "    1378371,\n",
    "    1378746,\n",
    "    1380136,\n",
    "    1384356,\n",
    "    1384461,\n",
    "    1385496,\n",
    "    1385656,\n",
    "    1385696,\n",
    "    1387081,\n",
    "    1387171,\n",
    "    1387406,\n",
    "    1388701,\n",
    "    1388881,\n",
    "    1389571,\n",
    "    1390086,\n",
    "    1393016,\n",
    "    1393071,\n",
    "}"
   ]
  },
  {
   "cell_type": "code",
   "execution_count": 14,
   "metadata": {},
   "outputs": [
    {
     "data": {
      "text/plain": [
       "set()"
      ]
     },
     "execution_count": 14,
     "metadata": {},
     "output_type": "execute_result"
    }
   ],
   "source": [
    "y1.difference(y2)"
   ]
  },
  {
   "cell_type": "code",
   "execution_count": 15,
   "metadata": {},
   "outputs": [
    {
     "data": {
      "text/plain": [
       "{1377841,\n",
       " 1378746,\n",
       " 1380136,\n",
       " 1385656,\n",
       " 1387081,\n",
       " 1387406,\n",
       " 1388701,\n",
       " 1390086,\n",
       " 1393016}"
      ]
     },
     "execution_count": 15,
     "metadata": {},
     "output_type": "execute_result"
    }
   ],
   "source": [
    "y2.difference(y1)"
   ]
  },
  {
   "cell_type": "code",
   "execution_count": 21,
   "metadata": {},
   "outputs": [
    {
     "data": {
      "text/plain": [
       "117"
      ]
     },
     "execution_count": 21,
     "metadata": {},
     "output_type": "execute_result"
    }
   ],
   "source": [
    "286 - 169"
   ]
  },
  {
   "cell_type": "code",
   "execution_count": null,
   "metadata": {},
   "outputs": [],
   "source": []
  }
 ],
 "metadata": {
  "kernelspec": {
   "display_name": "courts",
   "language": "python",
   "name": "courts"
  },
  "language_info": {
   "codemirror_mode": {
    "name": "ipython",
    "version": 3
   },
   "file_extension": ".py",
   "mimetype": "text/x-python",
   "name": "python",
   "nbconvert_exporter": "python",
   "pygments_lexer": "ipython3",
   "version": "3.7.4"
  }
 },
 "nbformat": 4,
 "nbformat_minor": 2
}
